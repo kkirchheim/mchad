{
 "cells": [
  {
   "cell_type": "code",
   "execution_count": null,
   "metadata": {
    "collapsed": true,
    "pycharm": {
     "name": "#%%\n"
    }
   },
   "outputs": [],
   "source": [
    "\"\"\"\n",
    "Create visualizations of saved tensorboard embeddings\n",
    "\n",
    "ffmpeg -f image2 -framerate 3 -i \"000%02d.png\"  -vf palettegen palette.png\n",
    "ffmpeg  -framerate 3 -i \"000%02d.png\" -i palette.png -lavfi paletteuse -vf scale=500x500 out.gif\n",
    "\"\"\"\n",
    "from matplotlib.patches import Circle\n",
    "import matplotlib.pyplot as plt\n",
    "from os import listdir\n",
    "from os.path import join, isdir, exists\n",
    "\n",
    "import numpy as np\n",
    "import pandas as pd\n",
    "\n",
    "root = \"/home/ki/projects/work/mchad/logs/runs/2022-04-07/22-01-22/tb/version_0/\"\n",
    "\n",
    "l = listdir(root)\n",
    "l.sort()\n",
    "\n",
    "for f in l:\n",
    "    if not isdir(join(root, f)):\n",
    "        continue\n",
    "\n",
    "    p = join(root, f, \"train\", \"tensors.tsv\")\n",
    "\n",
    "    if not exists(p):\n",
    "        continue\n",
    "\n",
    "    tensors = pd.read_csv(p, delimiter=\"\\t\", header=None)\n",
    "    p = join(root, f, \"train\", \"metadata.tsv\")\n",
    "    meta = pd.read_csv(p, delimiter=\"\\t\")\n",
    "\n",
    "    print(f)\n",
    "    fig, ax = plt.subplots(figsize=(5,5))\n",
    "\n",
    "    for i in [t for t in np.unique((meta[\"labels\"])) if t < 0]:\n",
    "        idx = meta[\"labels\"].values == i\n",
    "        data = tensors[idx]\n",
    "        ax.scatter(x=data.values[:,0], y=data.values[:,1], label=str(i), s=1, c=\"black\", marker=\"x\")\n",
    "\n",
    "    for i in [t for t in np.unique((meta[\"labels\"])) if t >= 0]:\n",
    "        idx = meta[\"labels\"].values == i\n",
    "        data = tensors[idx]\n",
    "        ax.scatter(x=data.values[:,0], y=data.values[:,1], label=str(i), s=2, cmap=\"tab20\")\n",
    "\n",
    "    ax.set_xlim(-5,5)\n",
    "    ax.set_ylim(-5,5)\n",
    "\n",
    "    p = join(root, f, \"centers\", \"tensors.tsv\")\n",
    "    tensors = pd.read_csv(p, delimiter=\"\\t\", header=None)\n",
    "    data = tensors\n",
    "    ax.scatter(x=data.values[:,0], y=data.values[:,1], label=str(i), s=10, c=\"black\", marker=\"o\")\n",
    "\n",
    "    for x,y in data.values:\n",
    "        circ = Circle( (x, y), 1.0 , fill = False,  color=\"gray\", alpha=0.5)\n",
    "        ax.add_patch(circ)\n",
    "\n",
    "    # plt.legend()\n",
    "    plt.savefig(f\"/home/ki/tmp/pic/{f}.png\", dpi=300)\n",
    "    plt.show()"
   ]
  },
  {
   "cell_type": "code",
   "execution_count": null,
   "outputs": [],
   "source": [
    "np.unique((meta[\"labels\"]))"
   ],
   "metadata": {
    "collapsed": false,
    "pycharm": {
     "name": "#%%\n"
    }
   }
  },
  {
   "cell_type": "code",
   "execution_count": null,
   "outputs": [],
   "source": [
    "fig, ax = plt.subplots(figsize=(5,5))\n",
    "idx = meta[\"labels\"].values == -1\n",
    "data = tensors[idx]\n",
    "ax.scatter(x=data.values[:,0], y=data.values[:,1], label=\"-1\", s=1, c=\"gray\", alpha=0.5)\n",
    "\n",
    "for i in [f for f in range(0, 10)]:\n",
    "    idx = meta[\"labels\"].values == i\n",
    "    data = tensors[idx]\n",
    "    ax.scatter(x=data.values[:,0], y=data.values[:,1], label=str(i), s=2)\n",
    "    ax.set_xlim(-5,5)\n",
    "    ax.set_ylim(-5,5)\n",
    "\n",
    "plt.legend()\n",
    "plt.show()"
   ],
   "metadata": {
    "collapsed": false,
    "pycharm": {
     "name": "#%%\n"
    }
   }
  },
  {
   "cell_type": "code",
   "execution_count": null,
   "outputs": [],
   "source": [],
   "metadata": {
    "collapsed": false,
    "pycharm": {
     "name": "#%%\n"
    }
   }
  }
 ],
 "metadata": {
  "kernelspec": {
   "display_name": "Python 3",
   "language": "python",
   "name": "python3"
  },
  "language_info": {
   "codemirror_mode": {
    "name": "ipython",
    "version": 2
   },
   "file_extension": ".py",
   "mimetype": "text/x-python",
   "name": "python",
   "nbconvert_exporter": "python",
   "pygments_lexer": "ipython2",
   "version": "2.7.6"
  }
 },
 "nbformat": 4,
 "nbformat_minor": 0
}
