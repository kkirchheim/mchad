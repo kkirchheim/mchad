{
 "cells": [
  {
   "cell_type": "markdown",
   "source": [
    "## Generate Result Tables\n",
    "- MCHAD\n",
    "- CAC\n",
    "- II\n",
    "- Center Loss\n",
    "- G-MCHAD\n",
    "- G-Center\n",
    "- G-CAC"
   ],
   "metadata": {
    "collapsed": false
   }
  },
  {
   "cell_type": "code",
   "execution_count": 17,
   "metadata": {
    "collapsed": true
   },
   "outputs": [],
   "source": [
    "import seaborn as sb\n",
    "import matplotlib.pyplot as plt\n",
    "from omegaconf import OmegaConf\n",
    "import pandas as pd\n",
    "from os.path import join"
   ]
  },
  {
   "cell_type": "code",
   "execution_count": 18,
   "outputs": [],
   "source": [
    "sb.set()\n",
    "sb.set_style(\"whitegrid\")\n",
    "sb.set_context(\"paper\")"
   ],
   "metadata": {
    "collapsed": false,
    "pycharm": {
     "name": "#%%\n"
    }
   }
  },
  {
   "cell_type": "code",
   "execution_count": 19,
   "outputs": [],
   "source": [
    "# root folder for experiment run\n",
    "root = \"/home/ki/projects/work/mchad/logs/multiruns/22-22:38:47/\""
   ],
   "metadata": {
    "collapsed": false,
    "pycharm": {
     "name": "#%%\n"
    }
   }
  },
  {
   "cell_type": "code",
   "execution_count": 20,
   "outputs": [],
   "source": [
    "# map test cases\n",
    "dataset_map = {\n",
    "    \"test_vs_uniformnoise\": \"Uniform\",\n",
    "    \"test_vs_gaussiannoise\": \"Gaussian\",\n",
    "    \"test_vs_tinycrop\": \"Tiny Crop\",\n",
    "    \"test_vs_tinyresize\": \"Tiny Resize\",\n",
    "    \"test_vs_lsuncrop\": \"LSUN Crop\",\n",
    "    \"test_vs_lsunresize\": \"LSUN Resize\",\n",
    "    \"test_vs_textures\": \"Texture\",\n",
    "}\n",
    "\n",
    "model_map = {\n",
    "    \"src.models.CAC\": \"CAC\",\n",
    "    \"src.models.Softmax\": \"Softmax\",\n",
    "    \"src.models.MCHAD\": \"MCHAD\",\n",
    "    \"src.models.Center\": \"Center\",\n",
    "    \"src.models.II\": \"II\",\n",
    "    \"src.models.GCAC\": \"G-CAC\",\n",
    "    \"src.models.GCenter\": \"G-Center\",\n",
    "}\n",
    "\n",
    "\n",
    "train_dataset_map = {\n",
    "    \"src.datamodules.CIFAR10DataModule\": \"CIFAR10\",\n",
    "    \"src.datamodules.SVHNDataModule\": \"SVHN\",\n",
    "    \"src.datamodules.CIFAR100DataModule\": \"CIFAR100\",\n",
    "}"
   ],
   "metadata": {
    "collapsed": false,
    "pycharm": {
     "name": "#%%\n"
    }
   }
  },
  {
   "cell_type": "code",
   "execution_count": 21,
   "outputs": [],
   "source": [
    "def convert(df, key=\"Distance\", task=\"OOD\"):\n",
    "    \"\"\"\n",
    "    Get correct metrics from dataframe\n",
    "    \"\"\"\n",
    "    df.rename(\n",
    "        inplace=True,\n",
    "        columns={\n",
    "            \"Accuracy/test\": \"Accuracy\",\n",
    "            f\"{key}/{task}/AUROC/test\": \"AUROC\",\n",
    "            f\"{key}/{task}/AUPR-IN/test\": \"AUPR-IN\",\n",
    "            f\"{key}/{task}/AUPR-OUT/test\": \"AUPR-OUT\",\n",
    "            f\"{key}/{task}/FPR95TPR/test\": \"FPR95\",\n",
    "        },\n",
    "    )\n",
    "\n",
    "    return df"
   ],
   "metadata": {
    "collapsed": false,
    "pycharm": {
     "name": "#%%\n"
    }
   }
  },
  {
   "cell_type": "code",
   "execution_count": 22,
   "outputs": [],
   "source": [
    "directories = []\n",
    "# # directories += [f\"./svhn/center/{i}\" for i in range(21)]\n",
    "# # directories += [f\"./svhn/mchad/{i}\" for i in range(21)]\n",
    "# directories += [f\"./svhn/gmchad/{i}\" for i in range(21)]\n",
    "# directories += [f\"./svhn/gcenter/{i}\" for i in range(21)]\n",
    "# directories += [f\"./svhn/gcac/{i}\" for i in range(21)]\n",
    "# # directories += [f\"./svhn/cac/{i}\" for i in range(21)]\n",
    "# # directories += [f\"./svhn/ii/{i}\" for i in range(21)]\n",
    "\n",
    "# # directories += [f\"./cifar100/mchad/{i}\" for i in range(21)]\n",
    "# directories += [f\"./cifar100/gmchad/{i}\" for i in range(21)]\n",
    "# directories += [f\"./cifar100/gcenter/{i}\" for i in range(21)]\n",
    "# directories += [f\"./cifar100/gcac/{i}\" for i in range(21)]\n",
    "# # directories += [f\"./cifar100/cac/{i}\" for i in range(21)]\n",
    "# # directories += [f\"./cifar100/ii/{i}\" for i in range(21)]\n",
    "# # directories += [f\"./cifar100/center/{i}\" for i in range(21)]\n",
    "\n",
    "\n",
    "# del directories[directories.index(\"./cifar100/cac/13\")]\n",
    "# directories += [f\"./cifar10/mchad/{i}\" for i in range(21)]\n",
    "# directories += [f\"./cifar10/center/{i}\" for i in range(21)]\n",
    "directories += [f\"./cifar10/gmchad/{i}\" for i in range(21)]\n",
    "directories += [f\"./cifar10/gcenter/{i}\" for i in range(21)]\n",
    "directories += [f\"./cifar10/gcac/{i}\" for i in range(21)]\n",
    "# directories += [f\"./cifar10/cac/{i}\" for i in range(21)]\n",
    "# directories += [f\"./cifar10/ii/{i}\" for i in range(21)]"
   ],
   "metadata": {
    "collapsed": false,
    "pycharm": {
     "name": "#%%\n"
    }
   }
  },
  {
   "cell_type": "code",
   "execution_count": 23,
   "outputs": [],
   "source": [
    "\n",
    "\n",
    "def get_training_set(datamodule):\n",
    "    target = datamodule[\"_target_\"]\n",
    "    d = train_dataset_map.get(target)\n",
    "\n",
    "    if not d:\n",
    "        if target == \"src.datamodules.MultiDatamodule\":\n",
    "            d = train_dataset_map.get(datamodule[\"module1\"][\"_target_\"])\n",
    "\n",
    "    if not d:\n",
    "        print(datamodule)\n",
    "    else:\n",
    "        print(d)\n",
    "\n",
    "    return d\n",
    "\n",
    "\n",
    "def load(path):\n",
    "    local_df = []\n",
    "\n",
    "    df = pd.read_csv(join(path, \"results.csv\"))\n",
    "    metrics = pd.read_csv(join(path, \"csv/version_0/metrics.csv\"))\n",
    "    config = OmegaConf.load(join(path, \"tb/version_0/hparams.yaml\"))\n",
    "    df[\"Dataset\"] = get_training_set(config[\"datamodule\"])\n",
    "    df[\"Outliers\"] = df[\"test_case_name\"].apply(dataset_map.get)\n",
    "    model = str(config[\"model\"][\"_target_\"])\n",
    "\n",
    "    if model == \"src.models.CAC\":\n",
    "        df[\"Model\"] = \"CAC\"\n",
    "        df = convert(df, \"Distance\")\n",
    "    elif model == \"src.models.SoftMax\":\n",
    "        print(\"EB-OOD\")\n",
    "        df_ebm = df.copy(deep=True)\n",
    "        df_ebm[\"Model\"] = \"EB-OOD\"\n",
    "        df_emb = convert(df_ebm, \"EnergyBased\")\n",
    "\n",
    "        local_df.append(df_ebm)\n",
    "\n",
    "        print(\"Softmax\")\n",
    "        df[\"Model\"] = \"Softmax\"\n",
    "        df = convert(df, \"Softmax\")\n",
    "\n",
    "    elif model == \"src.models.MCHAD\":\n",
    "        if config[\"model\"][\"weight_oe\"] == 0.0:\n",
    "            # print(f\"Weight OE: {config['model']['weight_oe']}\")\n",
    "            df[\"Model\"] = \"MCHAD\"\n",
    "        else:\n",
    "            print(f\"Weight OE: {config['model']['weight_oe']}\")\n",
    "            df[\"Model\"] = \"G-MCHAD\"\n",
    "\n",
    "        df = convert(df)\n",
    "    elif model == \"src.models.Center\":\n",
    "        df[\"Model\"] = \"Center\"\n",
    "        df = convert(df, \"Distance\")\n",
    "    elif model == \"src.models.IIModel\":\n",
    "        df[\"Model\"] = \"II\"\n",
    "        df = convert(df)\n",
    "    elif model == \"src.models.GCenter\":\n",
    "        df[\"Model\"] = \"G-Center\"\n",
    "        df = convert(df, key=\"Distance\")\n",
    "    elif model == \"src.models.GCAC\":\n",
    "        df[\"Model\"] = \"G-CAC\"\n",
    "        df = convert(df, key=\"Distance\")\n",
    "    else:\n",
    "        raise Exception(f\"UNKNOWN: {model}\")\n",
    "\n",
    "    local_df.append(df)\n",
    "    return config, pd.concat(local_df), metrics"
   ],
   "metadata": {
    "collapsed": false,
    "pycharm": {
     "name": "#%%\n"
    }
   }
  },
  {
   "cell_type": "code",
   "execution_count": 24,
   "outputs": [
    {
     "name": "stdout",
     "output_type": "stream",
     "text": [
      "CIFAR10\n",
      "Weight OE: 1e-05\n",
      "/home/ki/projects/work/mchad/logs/multiruns/22-15:14:16/./cifar10/gmchad/0\n",
      "CIFAR10/G-MCHAD -> 0.8479936495423317 8\n",
      "CIFAR10\n",
      "Weight OE: 1e-05\n",
      "/home/ki/projects/work/mchad/logs/multiruns/22-15:14:16/./cifar10/gmchad/1\n",
      "CIFAR10/G-MCHAD -> 0.8357414901256561 8\n",
      "CIFAR10\n",
      "Weight OE: 1e-05\n",
      "/home/ki/projects/work/mchad/logs/multiruns/22-15:14:16/./cifar10/gmchad/2\n",
      "CIFAR10/G-MCHAD -> 0.844928964972496 8\n",
      "CIFAR10\n",
      "Weight OE: 1e-05\n",
      "/home/ki/projects/work/mchad/logs/multiruns/22-15:14:16/./cifar10/gmchad/3\n",
      "CIFAR10/G-MCHAD -> 0.8532093688845634 8\n",
      "CIFAR10\n",
      "Weight OE: 1e-05\n",
      "/home/ki/projects/work/mchad/logs/multiruns/22-15:14:16/./cifar10/gmchad/4\n",
      "CIFAR10/G-MCHAD -> 0.8497217074036598 8\n",
      "CIFAR10\n",
      "Weight OE: 1e-05\n",
      "/home/ki/projects/work/mchad/logs/multiruns/22-15:14:16/./cifar10/gmchad/5\n",
      "CIFAR10/G-MCHAD -> 0.8447154238820076 8\n",
      "CIFAR10\n",
      "Weight OE: 1e-05\n",
      "/home/ki/projects/work/mchad/logs/multiruns/22-15:14:16/./cifar10/gmchad/6\n",
      "CIFAR10/G-MCHAD -> 0.8527276888489723 8\n",
      "CIFAR10\n",
      "Weight OE: 1e-05\n",
      "/home/ki/projects/work/mchad/logs/multiruns/22-15:14:16/./cifar10/gmchad/7\n",
      "CIFAR10/G-MCHAD -> 0.8275462612509727 8\n",
      "CIFAR10\n",
      "Weight OE: 1e-05\n",
      "/home/ki/projects/work/mchad/logs/multiruns/22-15:14:16/./cifar10/gmchad/8\n",
      "CIFAR10/G-MCHAD -> 0.8456821739673615 8\n",
      "CIFAR10\n",
      "Weight OE: 1e-05\n",
      "/home/ki/projects/work/mchad/logs/multiruns/22-15:14:16/./cifar10/gmchad/9\n",
      "CIFAR10/G-MCHAD -> 0.8487747460603714 8\n",
      "CIFAR10\n",
      "Weight OE: 1e-05\n",
      "/home/ki/projects/work/mchad/logs/multiruns/22-15:14:16/./cifar10/gmchad/10\n",
      "CIFAR10/G-MCHAD -> 0.8526102006435394 8\n",
      "CIFAR10\n",
      "Weight OE: 1e-05\n",
      "/home/ki/projects/work/mchad/logs/multiruns/22-15:14:16/./cifar10/gmchad/11\n",
      "CIFAR10/G-MCHAD -> 0.8372849225997925 8\n",
      "CIFAR10\n",
      "Weight OE: 1e-05\n",
      "/home/ki/projects/work/mchad/logs/multiruns/22-15:14:16/./cifar10/gmchad/12\n",
      "CIFAR10/G-MCHAD -> 0.7900535389780998 8\n",
      "CIFAR10\n",
      "Weight OE: 1e-05\n",
      "/home/ki/projects/work/mchad/logs/multiruns/22-15:14:16/./cifar10/gmchad/13\n",
      "CIFAR10/G-MCHAD -> 0.8571115881204605 8\n",
      "CIFAR10\n",
      "Weight OE: 1e-05\n",
      "/home/ki/projects/work/mchad/logs/multiruns/22-15:14:16/./cifar10/gmchad/14\n",
      "CIFAR10/G-MCHAD -> 0.8537907525897026 8\n",
      "CIFAR10\n",
      "Weight OE: 1e-05\n",
      "/home/ki/projects/work/mchad/logs/multiruns/22-15:14:16/./cifar10/gmchad/15\n",
      "CIFAR10/G-MCHAD -> 0.8516795709729195 8\n",
      "CIFAR10\n",
      "Weight OE: 1e-05\n",
      "/home/ki/projects/work/mchad/logs/multiruns/22-15:14:16/./cifar10/gmchad/16\n",
      "CIFAR10/G-MCHAD -> 0.8328420668840408 8\n",
      "CIFAR10\n",
      "Weight OE: 1e-05\n",
      "/home/ki/projects/work/mchad/logs/multiruns/22-15:14:16/./cifar10/gmchad/17\n",
      "CIFAR10/G-MCHAD -> 0.8469147831201553 8\n",
      "CIFAR10\n",
      "Weight OE: 1e-05\n",
      "/home/ki/projects/work/mchad/logs/multiruns/22-15:14:16/./cifar10/gmchad/18\n",
      "CIFAR10/G-MCHAD -> 0.8488672077655792 8\n",
      "CIFAR10\n",
      "Weight OE: 1e-05\n",
      "/home/ki/projects/work/mchad/logs/multiruns/22-15:14:16/./cifar10/gmchad/19\n",
      "CIFAR10/G-MCHAD -> 0.8566050678491592 8\n",
      "CIFAR10\n",
      "Weight OE: 1e-05\n",
      "/home/ki/projects/work/mchad/logs/multiruns/22-15:14:16/./cifar10/gmchad/20\n",
      "CIFAR10/G-MCHAD -> 0.8375633284449577 8\n",
      "CIFAR10\n",
      "/home/ki/projects/work/mchad/logs/multiruns/22-15:14:16/./cifar10/gcenter/0\n",
      "CIFAR10/G-Center -> 0.8218704089522362 8\n",
      "CIFAR10\n",
      "/home/ki/projects/work/mchad/logs/multiruns/22-15:14:16/./cifar10/gcenter/1\n",
      "CIFAR10/G-Center -> 0.7742707878351212 8\n",
      "CIFAR10\n",
      "/home/ki/projects/work/mchad/logs/multiruns/22-15:14:16/./cifar10/gcenter/2\n",
      "CIFAR10/G-Center -> 0.7310563549399376 8\n",
      "CIFAR10\n",
      "/home/ki/projects/work/mchad/logs/multiruns/22-15:14:16/./cifar10/gcenter/3\n",
      "CIFAR10/G-Center -> 0.826488196849823 8\n",
      "CIFAR10\n",
      "/home/ki/projects/work/mchad/logs/multiruns/22-15:14:16/./cifar10/gcenter/4\n",
      "CIFAR10/G-Center -> 0.8169973269104958 8\n",
      "CIFAR10\n",
      "/home/ki/projects/work/mchad/logs/multiruns/22-15:14:16/./cifar10/gcenter/5\n",
      "CIFAR10/G-Center -> 0.8187748864293098 8\n",
      "CIFAR10\n",
      "/home/ki/projects/work/mchad/logs/multiruns/22-15:14:16/./cifar10/gcenter/6\n",
      "CIFAR10/G-Center -> 0.7693656533956528 8\n",
      "CIFAR10\n",
      "/home/ki/projects/work/mchad/logs/multiruns/22-15:14:16/./cifar10/gcenter/7\n",
      "CIFAR10/G-Center -> 0.8142164498567581 8\n",
      "CIFAR10\n",
      "/home/ki/projects/work/mchad/logs/multiruns/22-15:14:16/./cifar10/gcenter/8\n",
      "CIFAR10/G-Center -> 0.8206278532743454 8\n",
      "CIFAR10\n",
      "/home/ki/projects/work/mchad/logs/multiruns/22-15:14:16/./cifar10/gcenter/9\n",
      "CIFAR10/G-Center -> 0.8011494353413582 8\n",
      "CIFAR10\n",
      "/home/ki/projects/work/mchad/logs/multiruns/22-15:14:16/./cifar10/gcenter/10\n",
      "CIFAR10/G-Center -> 0.8227200880646706 8\n",
      "CIFAR10\n",
      "/home/ki/projects/work/mchad/logs/multiruns/22-15:14:16/./cifar10/gcenter/11\n",
      "CIFAR10/G-Center -> 0.8322928920388222 8\n",
      "CIFAR10\n",
      "/home/ki/projects/work/mchad/logs/multiruns/22-15:14:16/./cifar10/gcenter/12\n",
      "CIFAR10/G-Center -> 0.8039457947015762 8\n",
      "CIFAR10\n",
      "/home/ki/projects/work/mchad/logs/multiruns/22-15:14:16/./cifar10/gcenter/13\n",
      "CIFAR10/G-Center -> 0.813267283141613 8\n",
      "CIFAR10\n",
      "/home/ki/projects/work/mchad/logs/multiruns/22-15:14:16/./cifar10/gcenter/14\n",
      "CIFAR10/G-Center -> 0.7981125116348267 8\n",
      "CIFAR10\n",
      "/home/ki/projects/work/mchad/logs/multiruns/22-15:14:16/./cifar10/gcenter/15\n",
      "CIFAR10/G-Center -> 0.8212870582938194 8\n",
      "CIFAR10\n",
      "/home/ki/projects/work/mchad/logs/multiruns/22-15:14:16/./cifar10/gcenter/16\n",
      "CIFAR10/G-Center -> 0.8120183497667313 8\n",
      "CIFAR10\n",
      "/home/ki/projects/work/mchad/logs/multiruns/22-15:14:16/./cifar10/gcenter/17\n",
      "CIFAR10/G-Center -> 0.8098037168383598 8\n",
      "CIFAR10\n",
      "/home/ki/projects/work/mchad/logs/multiruns/22-15:14:16/./cifar10/gcenter/18\n",
      "CIFAR10/G-Center -> 0.8008128702640533 8\n",
      "CIFAR10\n",
      "/home/ki/projects/work/mchad/logs/multiruns/22-15:14:16/./cifar10/gcenter/19\n",
      "CIFAR10/G-Center -> 0.8050689920783043 8\n",
      "CIFAR10\n",
      "/home/ki/projects/work/mchad/logs/multiruns/22-15:14:16/./cifar10/gcenter/20\n",
      "CIFAR10/G-Center -> 0.8256737217307091 8\n",
      "CIFAR10\n",
      "/home/ki/projects/work/mchad/logs/multiruns/22-15:14:16/./cifar10/gcac/0\n",
      "CIFAR10/G-CAC -> 0.7940673157572746 8\n",
      "CIFAR10\n",
      "/home/ki/projects/work/mchad/logs/multiruns/22-15:14:16/./cifar10/gcac/1\n",
      "CIFAR10/G-CAC -> 0.753112405538559 8\n",
      "CIFAR10\n",
      "/home/ki/projects/work/mchad/logs/multiruns/22-15:14:16/./cifar10/gcac/2\n",
      "CIFAR10/G-CAC -> 0.4706643596291542 8\n",
      "CIFAR10\n",
      "/home/ki/projects/work/mchad/logs/multiruns/22-15:14:16/./cifar10/gcac/3\n",
      "CIFAR10/G-CAC -> 0.7648968398571014 8\n",
      "CIFAR10\n",
      "/home/ki/projects/work/mchad/logs/multiruns/22-15:14:16/./cifar10/gcac/4\n",
      "CIFAR10/G-CAC -> 0.7831551134586334 8\n",
      "CIFAR10\n",
      "/home/ki/projects/work/mchad/logs/multiruns/22-15:14:16/./cifar10/gcac/5\n",
      "CIFAR10/G-CAC -> 0.552506148815155 8\n",
      "CIFAR10\n",
      "/home/ki/projects/work/mchad/logs/multiruns/22-15:14:16/./cifar10/gcac/6\n",
      "CIFAR10/G-CAC -> 0.6990195289254189 8\n",
      "CIFAR10\n",
      "/home/ki/projects/work/mchad/logs/multiruns/22-15:14:16/./cifar10/gcac/7\n",
      "CIFAR10/G-CAC -> 0.8002492487430573 8\n",
      "CIFAR10\n",
      "/home/ki/projects/work/mchad/logs/multiruns/22-15:14:16/./cifar10/gcac/8\n",
      "CIFAR10/G-CAC -> 0.48404888436198235 8\n",
      "CIFAR10\n",
      "/home/ki/projects/work/mchad/logs/multiruns/22-15:14:16/./cifar10/gcac/9\n",
      "CIFAR10/G-CAC -> 0.36016280949115753 8\n",
      "CIFAR10\n",
      "/home/ki/projects/work/mchad/logs/multiruns/22-15:14:16/./cifar10/gcac/10\n",
      "CIFAR10/G-CAC -> 0.40345773845911026 8\n",
      "CIFAR10\n",
      "/home/ki/projects/work/mchad/logs/multiruns/22-15:14:16/./cifar10/gcac/11\n",
      "CIFAR10/G-CAC -> 0.507930364459753 8\n",
      "CIFAR10\n",
      "/home/ki/projects/work/mchad/logs/multiruns/22-15:14:16/./cifar10/gcac/12\n",
      "CIFAR10/G-CAC -> 0.7970006465911865 8\n",
      "CIFAR10\n",
      "/home/ki/projects/work/mchad/logs/multiruns/22-15:14:16/./cifar10/gcac/13\n",
      "CIFAR10/G-CAC -> 0.7916869446635246 8\n",
      "CIFAR10\n",
      "/home/ki/projects/work/mchad/logs/multiruns/22-15:14:16/./cifar10/gcac/14\n",
      "CIFAR10/G-CAC -> 0.7824517861008644 8\n",
      "CIFAR10\n",
      "/home/ki/projects/work/mchad/logs/multiruns/22-15:14:16/./cifar10/gcac/15\n",
      "CIFAR10/G-CAC -> 0.5089622139930725 8\n",
      "CIFAR10\n",
      "/home/ki/projects/work/mchad/logs/multiruns/22-15:14:16/./cifar10/gcac/16\n",
      "CIFAR10/G-CAC -> 0.772744245827198 8\n",
      "CIFAR10\n",
      "/home/ki/projects/work/mchad/logs/multiruns/22-15:14:16/./cifar10/gcac/17\n",
      "CIFAR10/G-CAC -> 0.7954020574688911 8\n",
      "CIFAR10\n",
      "/home/ki/projects/work/mchad/logs/multiruns/22-15:14:16/./cifar10/gcac/18\n",
      "CIFAR10/G-CAC -> 0.752900592982769 8\n",
      "CIFAR10\n",
      "/home/ki/projects/work/mchad/logs/multiruns/22-15:14:16/./cifar10/gcac/19\n",
      "CIFAR10/G-CAC -> 0.733353428542614 8\n",
      "CIFAR10\n",
      "/home/ki/projects/work/mchad/logs/multiruns/22-15:14:16/./cifar10/gcac/20\n",
      "CIFAR10/G-CAC -> 0.7929986193776131 8\n"
     ]
    }
   ],
   "source": [
    "dfs = []\n",
    "\n",
    "for d in directories:\n",
    "    # filter(lambda x: \"center\" not in x and \"cifar100/softmax/\" not in x and \"mchad-o\" not in x, directories):\n",
    "    path = join(root, d)\n",
    "    config, df, metrics = load(path)\n",
    "    try:\n",
    "        if df is not None:\n",
    "            print(path)\n",
    "            print(\n",
    "                f\"{df['Dataset'][0]}/{df['Model'][0]} -> {df['AUROC'].mean()} {len(df)}\"\n",
    "            )\n",
    "            df = df[\n",
    "                [\n",
    "                    \"Accuracy\",\n",
    "                    \"AUROC\",\n",
    "                    \"AUPR-IN\",\n",
    "                    \"AUPR-OUT\",\n",
    "                    \"FPR95\",\n",
    "                    \"Dataset\",\n",
    "                    \"Outliers\",\n",
    "                    \"Model\",\n",
    "                ]\n",
    "            ]\n",
    "            dfs.append(df.copy())\n",
    "    except Exception as e:\n",
    "        print(\"EXCEPTION WHILE LOADING\")\n",
    "        print(type(e), e)\n",
    "        print(df.columns)\n",
    "\n",
    "df = pd.concat(dfs)"
   ],
   "metadata": {
    "collapsed": false,
    "pycharm": {
     "name": "#%%\n"
    }
   }
  },
  {
   "cell_type": "code",
   "execution_count": 25,
   "outputs": [],
   "source": [
    "df[\"AUROC\"] = df[\"AUROC\"].apply(lambda x: x * 100)\n",
    "df[\"AUPR-IN\"] = df[\"AUPR-IN\"].apply(lambda x: x * 100)\n",
    "df[\"AUPR-OUT\"] = df[\"AUPR-OUT\"].apply(lambda x: x * 100)\n",
    "df[\"FPR95\"] = df[\"FPR95\"].apply(lambda x: x * 100)\n",
    "df[\"Accuracy\"] = df[\"Accuracy\"].apply(lambda x: x * 100)"
   ],
   "metadata": {
    "collapsed": false,
    "pycharm": {
     "name": "#%%\n"
    }
   }
  },
  {
   "cell_type": "code",
   "execution_count": 26,
   "outputs": [],
   "source": [
    "# , \"Tiny Crop\", \"LSUN Crop\"\n",
    "# df = df[df[\"Outliers\"].isin([\"Texture\", \"Tiny Resize\", \"LSUN Resize\", \"Uniform\", \"Gaussian\"])]\n",
    "df = df.set_index([\"Dataset\", \"Outliers\", \"Model\"]).dropna()\n"
   ],
   "metadata": {
    "collapsed": false,
    "pycharm": {
     "name": "#%%\n"
    }
   }
  },
  {
   "cell_type": "code",
   "execution_count": 27,
   "outputs": [
    {
     "name": "stdout",
     "output_type": "stream",
     "text": [
      "\\begin{table}\n",
      "\\centering\n",
      "\\label{tab:results}\n",
      "\\begin{tabular}{llrrrrrrrrrr}\n",
      "\\toprule\n",
      "         &       & \\multicolumn{2}{l}{Accuracy} & \\multicolumn{2}{l}{AUROC} & \\multicolumn{2}{l}{AUPR-IN} & \\multicolumn{2}{l}{AUPR-OUT} & \\multicolumn{2}{l}{FPR95} \\\\\n",
      "         &       &     Mean &  $\\pm \\sigma_{\\bar{x}}$ &  Mean &  $\\pm \\sigma_{\\bar{x}}$ &    Mean &  $\\pm \\sigma_{\\bar{x}}$ &     Mean &  $\\pm \\sigma_{\\bar{x}}$ &  Mean &  $\\pm \\sigma_{\\bar{x}}$ \\\\\n",
      "Dataset & Model &          &      &       &      &         &      &          &      &       &      \\\\\n",
      "\\midrule\n",
      "\\multirow{7}{*}{SVHN} & \\textbf{MCHAD (ours)} &      NaN &  NaN &   NaN &  NaN &     NaN &  NaN &      NaN &  NaN &   NaN &  NaN \\\\\n",
      "         & II &      NaN &  NaN &   NaN &  NaN &     NaN &  NaN &      NaN &  NaN &   NaN &  NaN \\\\\n",
      "         & CAC &      NaN &  NaN &   NaN &  NaN &     NaN &  NaN &      NaN &  NaN &   NaN &  NaN \\\\\n",
      "         & Center &      NaN &  NaN &   NaN &  NaN &     NaN &  NaN &      NaN &  NaN &   NaN &  NaN \\\\\n",
      "         & \\textbf{G-MCHAD (ours)} &      NaN &  NaN &   NaN &  NaN &     NaN &  NaN &      NaN &  NaN &   NaN &  NaN \\\\\n",
      "         & \\textbf{G-Center (ours)} &      NaN &  NaN &   NaN &  NaN &     NaN &  NaN &      NaN &  NaN &   NaN &  NaN \\\\\n",
      "         & \\textbf{G-CAC (ours)} &      NaN &  NaN &   NaN &  NaN &     NaN &  NaN &      NaN &  NaN &   NaN &  NaN \\\\\n",
      "\\cline{1-12}\n",
      "\\multirow{7}{*}{CIFAR10} & \\textbf{MCHAD (ours)} &      NaN &  NaN &   NaN &  NaN &     NaN &  NaN &      NaN &  NaN &   NaN &  NaN \\\\\n",
      "         & II &      NaN &  NaN &   NaN &  NaN &     NaN &  NaN &      NaN &  NaN &   NaN &  NaN \\\\\n",
      "         & CAC &      NaN &  NaN &   NaN &  NaN &     NaN &  NaN &      NaN &  NaN &   NaN &  NaN \\\\\n",
      "         & Center &      NaN &  NaN &   NaN &  NaN &     NaN &  NaN &      NaN &  NaN &   NaN &  NaN \\\\\n",
      "         & \\textbf{G-MCHAD (ours)} &    94.72 & 0.01 & 96.42 & 0.21 &   93.79 & 0.41 &    97.37 & 0.15 & 11.13 & 0.58 \\\\\n",
      "         & \\textbf{G-Center (ours)} &    94.27 & 0.01 & 92.19 & 0.62 &   87.81 & 0.94 &    93.97 & 0.47 & 21.31 & 1.32 \\\\\n",
      "         & \\textbf{G-CAC (ours)} &    72.95 & 2.62 & 76.74 & 1.58 &   74.63 & 1.59 &    76.99 & 1.37 & 62.68 & 2.74 \\\\\n",
      "\\cline{1-12}\n",
      "\\multirow{7}{*}{CIFAR100} & \\textbf{MCHAD (ours)} &      NaN &  NaN &   NaN &  NaN &     NaN &  NaN &      NaN &  NaN &   NaN &  NaN \\\\\n",
      "         & II &      NaN &  NaN &   NaN &  NaN &     NaN &  NaN &      NaN &  NaN &   NaN &  NaN \\\\\n",
      "         & CAC &      NaN &  NaN &   NaN &  NaN &     NaN &  NaN &      NaN &  NaN &   NaN &  NaN \\\\\n",
      "         & Center &      NaN &  NaN &   NaN &  NaN &     NaN &  NaN &      NaN &  NaN &   NaN &  NaN \\\\\n",
      "         & \\textbf{G-MCHAD (ours)} &      NaN &  NaN &   NaN &  NaN &     NaN &  NaN &      NaN &  NaN &   NaN &  NaN \\\\\n",
      "         & \\textbf{G-Center (ours)} &      NaN &  NaN &   NaN &  NaN &     NaN &  NaN &      NaN &  NaN &   NaN &  NaN \\\\\n",
      "         & \\textbf{G-CAC (ours)} &      NaN &  NaN &   NaN &  NaN &     NaN &  NaN &      NaN &  NaN &   NaN &  NaN \\\\\n",
      "\\bottomrule\n",
      "\\end{tabular}\n",
      "\\end{table}\n",
      "\n"
     ]
    }
   ],
   "source": [
    "from itertools import product\n",
    "datasets = [\"SVHN\", \"CIFAR10\", \"CIFAR100\"]\n",
    "# models = [\"CAC\", \"II\", \"Center\", \"Softmax\", \"EB-OOD\", \"MCHAD\", \"G-MCHAD\"]\n",
    "models = [\"MCHAD\", \"II\", \"CAC\", \"Center\", \"G-MCHAD\", \"G-Center\", \"G-CAC\"]\n",
    "\n",
    "t =  df.reset_index().groupby(by=[\"Dataset\", \"Model\"]).agg(\n",
    "        {\n",
    "            \"Accuracy\": [\"mean\", \"sem\"],\n",
    "            \"AUROC\": [\"mean\", \"sem\"],\n",
    "            \"AUPR-IN\": [\"mean\", \"sem\"],\n",
    "            \"AUPR-OUT\": [\"mean\", \"sem\"],\n",
    "            \"FPR95\": [\"mean\", \"sem\"],\n",
    "        }\n",
    "    ).reindex(list(product(datasets, models)))\n",
    "\n",
    "s = t.to_latex(\n",
    "        float_format=\"%.2f\",\n",
    "        multirow=True,\n",
    "        escape=False,\n",
    "        label=\"tab:results\",\n",
    "        # bold_rows=\"True\",\n",
    "    )\n",
    "\n",
    "repl = {\n",
    "    \"mean\": \"Mean\",\n",
    "    \"sem\": \"$\\\\pm \\sigma_{\\\\bar{x}}$\",\n",
    "    \" MCHAD\": \" \\\\textbf{MCHAD (ours)}\",\n",
    "    \"G-MCHAD\": \"\\\\textbf{G-MCHAD (ours)}\",\n",
    "    \"G-Center\": \"\\\\textbf{G-Center (ours)}\",\n",
    "    \"G-CAC\": \"\\\\textbf{G-CAC (ours)}\",\n",
    "}\n",
    "\n",
    "for k, v in repl.items():\n",
    "    s = s.replace(k, v)\n",
    "\n",
    "print(s)"
   ],
   "metadata": {
    "collapsed": false,
    "pycharm": {
     "name": "#%%\n"
    }
   }
  },
  {
   "cell_type": "code",
   "execution_count": 29,
   "outputs": [
    {
     "data": {
      "text/plain": "<Figure size 434.555x360 with 1 Axes>",
      "image/png": "[encoded data removed]"
     },
     "metadata": {},
     "output_type": "display_data"
    }
   ],
   "source": [
    "methods = [\"MCHAD\", \"II\", \"CAC\", \"Center\", \"G-MCHAD\", \"G-Center\", \"G-CAC\"]\n",
    "# ,\n",
    "for dataset in [\"CIFAR10\"]:\n",
    "    g = sb.catplot(\n",
    "        data=df.reset_index()[df.reset_index()[\"Dataset\"] == dataset],\n",
    "        x=\"Outliers\",\n",
    "        y=\"AUROC\",\n",
    "        kind=\"bar\",\n",
    "        hue=\"Model\",\n",
    "        col=\"Dataset\",\n",
    "        hue_order=methods\n",
    "    )\n",
    "    g.set_xticklabels(rotation=30)\n",
    "    plt.savefig(f\"out/single-auroc-{dataset}.png\", dpi=300)\n",
    "    plt.show()"
   ],
   "metadata": {
    "collapsed": false,
    "pycharm": {
     "name": "#%%\n"
    }
   }
  },
  {
   "cell_type": "code",
   "execution_count": 30,
   "outputs": [
    {
     "name": "stdout",
     "output_type": "stream",
     "text": [
      "<table border=\"1\" class=\"dataframe\">\n",
      "  <thead>\n",
      "    <tr>\n",
      "      <th></th>\n",
      "      <th></th>\n",
      "      <th colspan=\"2\" halign=\"left\">Accuracy</th>\n",
      "      <th colspan=\"2\" halign=\"left\">AUROC</th>\n",
      "      <th colspan=\"2\" halign=\"left\">AUPR-IN</th>\n",
      "      <th colspan=\"2\" halign=\"left\">AUPR-OUT</th>\n",
      "      <th colspan=\"2\" halign=\"left\">FPR95</th>\n",
      "    </tr>\n",
      "    <tr>\n",
      "      <th></th>\n",
      "      <th></th>\n",
      "      <th>mean</th>\n",
      "      <th>sem</th>\n",
      "      <th>mean</th>\n",
      "      <th>sem</th>\n",
      "      <th>mean</th>\n",
      "      <th>sem</th>\n",
      "      <th>mean</th>\n",
      "      <th>sem</th>\n",
      "      <th>mean</th>\n",
      "      <th>sem</th>\n",
      "    </tr>\n",
      "    <tr>\n",
      "      <th>Dataset</th>\n",
      "      <th>Model</th>\n",
      "      <th></th>\n",
      "      <th></th>\n",
      "      <th></th>\n",
      "      <th></th>\n",
      "      <th></th>\n",
      "      <th></th>\n",
      "      <th></th>\n",
      "      <th></th>\n",
      "      <th></th>\n",
      "      <th></th>\n",
      "    </tr>\n",
      "  </thead>\n",
      "  <tbody>\n",
      "    <tr>\n",
      "      <th rowspan=\"3\" valign=\"top\">CIFAR10</th>\n",
      "      <th>G-CAC</th>\n",
      "      <td>72.95</td>\n",
      "      <td>2.62</td>\n",
      "      <td>76.74</td>\n",
      "      <td>1.58</td>\n",
      "      <td>74.63</td>\n",
      "      <td>1.59</td>\n",
      "      <td>76.99</td>\n",
      "      <td>1.37</td>\n",
      "      <td>62.68</td>\n",
      "      <td>2.74</td>\n",
      "    </tr>\n",
      "    <tr>\n",
      "      <th>G-Center</th>\n",
      "      <td>94.27</td>\n",
      "      <td>0.01</td>\n",
      "      <td>92.19</td>\n",
      "      <td>0.62</td>\n",
      "      <td>87.81</td>\n",
      "      <td>0.94</td>\n",
      "      <td>93.97</td>\n",
      "      <td>0.47</td>\n",
      "      <td>21.31</td>\n",
      "      <td>1.32</td>\n",
      "    </tr>\n",
      "    <tr>\n",
      "      <th>G-MCHAD</th>\n",
      "      <td>94.72</td>\n",
      "      <td>0.01</td>\n",
      "      <td>96.42</td>\n",
      "      <td>0.21</td>\n",
      "      <td>93.79</td>\n",
      "      <td>0.41</td>\n",
      "      <td>97.37</td>\n",
      "      <td>0.15</td>\n",
      "      <td>11.13</td>\n",
      "      <td>0.58</td>\n",
      "    </tr>\n",
      "  </tbody>\n",
      "</table>\n"
     ]
    }
   ],
   "source": [
    "tmp = df.reset_index().copy()\n",
    "# tmp = tmp[(tmp[\"Model\"] == \"MCHAD\") | (tmp[\"Model\"] == \"G-MCHAD\")| (tmp[\"Model\"] == \"G-CAC\") | (tmp[\"Model\"] == \"G-Center\")]\n",
    "\n",
    "print(\n",
    "    tmp\n",
    "    .groupby(by=[\"Dataset\", \"Model\"])\n",
    "    .agg(\n",
    "        {\n",
    "            \"Accuracy\": [\"mean\", \"sem\"],\n",
    "            \"AUROC\": [\"mean\", \"sem\"],\n",
    "            \"AUPR-IN\": [\"mean\", \"sem\"],\n",
    "            \"AUPR-OUT\": [\"mean\", \"sem\"],\n",
    "            \"FPR95\": [\"mean\", \"sem\"],\n",
    "        }\n",
    "    )\n",
    "    .to_html(\n",
    "        float_format=\"%.2f\",\n",
    "        escape=False,\n",
    "    )\n",
    ")\n"
   ],
   "metadata": {
    "collapsed": false,
    "pycharm": {
     "name": "#%%\n"
    }
   }
  },
  {
   "cell_type": "code",
   "execution_count": 31,
   "outputs": [
    {
     "data": {
      "text/plain": "                   Accuracy                AUROC              AUPR-IN  \\\n                       mean       sem       mean       sem       mean   \nDataset Model                                                           \nCIFAR10 G-CAC     72.951429  2.622827  76.738891  1.584205  74.631645   \n        G-Center  94.273809  0.014247  92.189500  0.617311  87.805644   \n        G-MCHAD   94.720476  0.009985  96.415589  0.208653  93.792861   \n\n                             AUPR-OUT                FPR95            \n                       sem       mean       sem       mean       sem  \nDataset Model                                                         \nCIFAR10 G-CAC     1.594329  76.992015  1.365731  62.677619  2.737043  \n        G-Center  0.935805  93.966079  0.469483  21.308163  1.318531  \n        G-MCHAD   0.409513  97.366978  0.151999  11.126871  0.580735  ",
      "text/html": "<div>\n<style scoped>\n    .dataframe tbody tr th:only-of-type {\n        vertical-align: middle;\n    }\n\n    .dataframe tbody tr th {\n        vertical-align: top;\n    }\n\n    .dataframe thead tr th {\n        text-align: left;\n    }\n\n    .dataframe thead tr:last-of-type th {\n        text-align: right;\n    }\n</style>\n<table border=\"1\" class=\"dataframe\">\n  <thead>\n    <tr>\n      <th></th>\n      <th></th>\n      <th colspan=\"2\" halign=\"left\">Accuracy</th>\n      <th colspan=\"2\" halign=\"left\">AUROC</th>\n      <th colspan=\"2\" halign=\"left\">AUPR-IN</th>\n      <th colspan=\"2\" halign=\"left\">AUPR-OUT</th>\n      <th colspan=\"2\" halign=\"left\">FPR95</th>\n    </tr>\n    <tr>\n      <th></th>\n      <th></th>\n      <th>mean</th>\n      <th>sem</th>\n      <th>mean</th>\n      <th>sem</th>\n      <th>mean</th>\n      <th>sem</th>\n      <th>mean</th>\n      <th>sem</th>\n      <th>mean</th>\n      <th>sem</th>\n    </tr>\n    <tr>\n      <th>Dataset</th>\n      <th>Model</th>\n      <th></th>\n      <th></th>\n      <th></th>\n      <th></th>\n      <th></th>\n      <th></th>\n      <th></th>\n      <th></th>\n      <th></th>\n      <th></th>\n    </tr>\n  </thead>\n  <tbody>\n    <tr>\n      <th rowspan=\"3\" valign=\"top\">CIFAR10</th>\n      <th>G-CAC</th>\n      <td>72.951429</td>\n      <td>2.622827</td>\n      <td>76.738891</td>\n      <td>1.584205</td>\n      <td>74.631645</td>\n      <td>1.594329</td>\n      <td>76.992015</td>\n      <td>1.365731</td>\n      <td>62.677619</td>\n      <td>2.737043</td>\n    </tr>\n    <tr>\n      <th>G-Center</th>\n      <td>94.273809</td>\n      <td>0.014247</td>\n      <td>92.189500</td>\n      <td>0.617311</td>\n      <td>87.805644</td>\n      <td>0.935805</td>\n      <td>93.966079</td>\n      <td>0.469483</td>\n      <td>21.308163</td>\n      <td>1.318531</td>\n    </tr>\n    <tr>\n      <th>G-MCHAD</th>\n      <td>94.720476</td>\n      <td>0.009985</td>\n      <td>96.415589</td>\n      <td>0.208653</td>\n      <td>93.792861</td>\n      <td>0.409513</td>\n      <td>97.366978</td>\n      <td>0.151999</td>\n      <td>11.126871</td>\n      <td>0.580735</td>\n    </tr>\n  </tbody>\n</table>\n</div>"
     },
     "execution_count": 31,
     "metadata": {},
     "output_type": "execute_result"
    }
   ],
   "source": [
    "tmp.groupby(by=[\"Dataset\", \"Model\"]).agg(\n",
    "    {\n",
    "        \"Accuracy\": [\"mean\", \"sem\"],\n",
    "        \"AUROC\": [\"mean\", \"sem\"],\n",
    "        \"AUPR-IN\": [\"mean\", \"sem\"],\n",
    "        \"AUPR-OUT\": [\"mean\", \"sem\"],\n",
    "        \"FPR95\": [\"mean\", \"sem\"],\n",
    "    }\n",
    ")"
   ],
   "metadata": {
    "collapsed": false,
    "pycharm": {
     "name": "#%%\n"
    }
   }
  },
  {
   "cell_type": "code",
   "execution_count": 32,
   "outputs": [
    {
     "name": "stdout",
     "output_type": "stream",
     "text": [
      "Accuracy SVHN -> False \n",
      "Accuracy CIFAR10 -> False \n",
      "Accuracy CIFAR100 -> False \n",
      "AUROC SVHN -> False \n",
      "AUROC CIFAR10 -> False \n",
      "AUROC CIFAR100 -> False \n",
      "AUPR-IN SVHN -> False \n",
      "AUPR-IN CIFAR10 -> False \n",
      "AUPR-IN CIFAR100 -> False \n",
      "AUPR-OUT SVHN -> False \n",
      "AUPR-OUT CIFAR10 -> False \n",
      "AUPR-OUT CIFAR100 -> False \n",
      "FPR95 SVHN -> False \n",
      "FPR95 CIFAR10 -> False \n",
      "FPR95 CIFAR100 -> False \n"
     ]
    }
   ],
   "source": [
    "from scipy.stats import ttest_ind\n",
    "\n",
    "tmp = df.reset_index().copy()\n",
    "# tmp = tmp[(tmp[\"Model\"] == \"MCHAD\") | (tmp[\"Model\"] == \"G-MCHAD\")]\n",
    "\n",
    "for metric in [\"Accuracy\", \"AUROC\", \"AUPR-IN\", \"AUPR-OUT\", \"FPR95\"]:\n",
    "    for dataset in [\"SVHN\", \"CIFAR10\", \"CIFAR100\"]:\n",
    "        a = tmp[(tmp[\"Model\"] == \"CAC\") & (tmp[\"Dataset\"] == dataset)][metric]\n",
    "        b = tmp[(tmp[\"Model\"] == \"MCHAD\") & (tmp[\"Dataset\"]== dataset)][metric]\n",
    "        stat, p = ttest_ind(a,b, equal_var=False)\n",
    "        print(f\"{metric} {dataset} -> {p < 0.05} \")"
   ],
   "metadata": {
    "collapsed": false,
    "pycharm": {
     "name": "#%%\n"
    }
   }
  },
  {
   "cell_type": "code",
   "execution_count": null,
   "outputs": [],
   "source": [],
   "metadata": {
    "collapsed": false,
    "pycharm": {
     "name": "#%%\n"
    }
   }
  },
  {
   "cell_type": "code",
   "execution_count": null,
   "outputs": [],
   "source": [],
   "metadata": {
    "collapsed": false,
    "pycharm": {
     "name": "#%%\n"
    }
   }
  }
 ],
 "metadata": {
  "kernelspec": {
   "display_name": "Python 3",
   "language": "python",
   "name": "python3"
  },
  "language_info": {
   "codemirror_mode": {
    "name": "ipython",
    "version": 2
   },
   "file_extension": ".py",
   "mimetype": "text/x-python",
   "name": "python",
   "nbconvert_exporter": "python",
   "pygments_lexer": "ipython2",
   "version": "2.7.6"
  }
 },
 "nbformat": 4,
 "nbformat_minor": 0
}
