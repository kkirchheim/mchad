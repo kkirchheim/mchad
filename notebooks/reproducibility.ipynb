{
 "cells": [
  {
   "cell_type": "code",
   "execution_count": 18,
   "metadata": {
    "collapsed": true
   },
   "outputs": [],
   "source": [
    "import matplotlib.pyplot as plt\n",
    "import numpy as np\n",
    "import seaborn\n",
    "import pandas as pd\n",
    "\n",
    "root = \"/home/ki/projects/work/mchad/logs/multiruns/many/06/24/22-18:31:15/cifar10/\"\n",
    "\n",
    "dfs = []\n",
    "\n",
    "values = {}\n",
    "\n",
    "methods =  [ \"mchad\", \"cac\", \"center\", \"ii\"]\n",
    "\n",
    "for method in methods:\n",
    "    values[method] = []\n",
    "\n",
    "    for i in range(99):\n",
    "        path = f\"{root}/{method}/{i}/results.csv\"\n",
    "        df = pd.read_csv(path)\n",
    "\n",
    "        value = df[\"Distance/OOD/AUROC/test\"].mean()\n",
    "        values[method].append(value)"
   ]
  },
  {
   "cell_type": "code",
   "execution_count": 19,
   "outputs": [],
   "source": [
    "values = {k: np.array(v) for k, v in values.items()}"
   ],
   "metadata": {
    "collapsed": false,
    "pycharm": {
     "name": "#%%\n"
    }
   }
  },
  {
   "cell_type": "code",
   "execution_count": 20,
   "outputs": [],
   "source": [
    "from collections import Counter\n",
    "n_samples = 1\n",
    "mc_iter = 10000\n",
    "\n",
    "results = []\n",
    "\n",
    "for n_samples in range(1, 99):\n",
    "    winning = []\n",
    "\n",
    "    for i in range(mc_iter):\n",
    "        tmp = {}\n",
    "\n",
    "        for method in methods:\n",
    "            v = np.random.permutation(values[method])[:n_samples].mean()\n",
    "            # print(v)\n",
    "            tmp[method] = v\n",
    "\n",
    "        # print(res)\n",
    "        winning.append(max(tmp, key=tmp.get))\n",
    "\n",
    "    c = Counter(winning)\n",
    "    for method in methods:\n",
    "        v = c[method]\n",
    "        results.append({\"Method\": method, \"Win Probability\": v / mc_iter, \"Number of Seed Replicates\": n_samples})"
   ],
   "metadata": {
    "collapsed": false,
    "pycharm": {
     "name": "#%%\n"
    }
   }
  },
  {
   "cell_type": "code",
   "execution_count": 21,
   "outputs": [],
   "source": [
    "data = pd.DataFrame(results)\n"
   ],
   "metadata": {
    "collapsed": false,
    "pycharm": {
     "name": "#%%\n"
    }
   }
  },
  {
   "cell_type": "code",
   "execution_count": 22,
   "outputs": [
    {
     "data": {
      "text/plain": "     Method  Win Probability  Number of Seed Replicates\n0     mchad           0.6385                          1\n1       cac           0.2515                          1\n2    center           0.1100                          1\n3        ii           0.0000                          1\n4     mchad           0.6779                          2\n..      ...              ...                        ...\n387      ii           0.0000                         97\n388   mchad           1.0000                         98\n389     cac           0.0000                         98\n390  center           0.0000                         98\n391      ii           0.0000                         98\n\n[392 rows x 3 columns]",
      "text/html": "<div>\n<style scoped>\n    .dataframe tbody tr th:only-of-type {\n        vertical-align: middle;\n    }\n\n    .dataframe tbody tr th {\n        vertical-align: top;\n    }\n\n    .dataframe thead th {\n        text-align: right;\n    }\n</style>\n<table border=\"1\" class=\"dataframe\">\n  <thead>\n    <tr style=\"text-align: right;\">\n      <th></th>\n      <th>Method</th>\n      <th>Win Probability</th>\n      <th>Number of Seed Replicates</th>\n    </tr>\n  </thead>\n  <tbody>\n    <tr>\n      <th>0</th>\n      <td>mchad</td>\n      <td>0.6385</td>\n      <td>1</td>\n    </tr>\n    <tr>\n      <th>1</th>\n      <td>cac</td>\n      <td>0.2515</td>\n      <td>1</td>\n    </tr>\n    <tr>\n      <th>2</th>\n      <td>center</td>\n      <td>0.1100</td>\n      <td>1</td>\n    </tr>\n    <tr>\n      <th>3</th>\n      <td>ii</td>\n      <td>0.0000</td>\n      <td>1</td>\n    </tr>\n    <tr>\n      <th>4</th>\n      <td>mchad</td>\n      <td>0.6779</td>\n      <td>2</td>\n    </tr>\n    <tr>\n      <th>...</th>\n      <td>...</td>\n      <td>...</td>\n      <td>...</td>\n    </tr>\n    <tr>\n      <th>387</th>\n      <td>ii</td>\n      <td>0.0000</td>\n      <td>97</td>\n    </tr>\n    <tr>\n      <th>388</th>\n      <td>mchad</td>\n      <td>1.0000</td>\n      <td>98</td>\n    </tr>\n    <tr>\n      <th>389</th>\n      <td>cac</td>\n      <td>0.0000</td>\n      <td>98</td>\n    </tr>\n    <tr>\n      <th>390</th>\n      <td>center</td>\n      <td>0.0000</td>\n      <td>98</td>\n    </tr>\n    <tr>\n      <th>391</th>\n      <td>ii</td>\n      <td>0.0000</td>\n      <td>98</td>\n    </tr>\n  </tbody>\n</table>\n<p>392 rows × 3 columns</p>\n</div>"
     },
     "execution_count": 22,
     "metadata": {},
     "output_type": "execute_result"
    }
   ],
   "source": [
    "data"
   ],
   "metadata": {
    "collapsed": false,
    "pycharm": {
     "name": "#%%\n"
    }
   }
  },
  {
   "cell_type": "code",
   "execution_count": 23,
   "outputs": [],
   "source": [
    "name_map = {\"cac\": \"CAC\",\n",
    "            \"mchad\": \"MCHAD\",\n",
    "            \"center\": \"Center\",\n",
    "            \"gcac\": \"G-CAC\",\n",
    "            \"gmchad\": \"G-MCHAD\",\n",
    "            \"gcenter\": \"G-Center\",\n",
    "            \"ii\": \"II\"}\n",
    "\n",
    "data[\"Method\"] = data[\"Method\"].apply(name_map.get)"
   ],
   "metadata": {
    "collapsed": false,
    "pycharm": {
     "name": "#%%\n"
    }
   }
  },
  {
   "cell_type": "code",
   "execution_count": 24,
   "outputs": [
    {
     "data": {
      "text/plain": "     Method  Win Probability  Number of Seed Replicates\n0     MCHAD           0.6385                          1\n1       CAC           0.2515                          1\n2    Center           0.1100                          1\n3        II           0.0000                          1\n4     MCHAD           0.6779                          2\n..      ...              ...                        ...\n387      II           0.0000                         97\n388   MCHAD           1.0000                         98\n389     CAC           0.0000                         98\n390  Center           0.0000                         98\n391      II           0.0000                         98\n\n[392 rows x 3 columns]",
      "text/html": "<div>\n<style scoped>\n    .dataframe tbody tr th:only-of-type {\n        vertical-align: middle;\n    }\n\n    .dataframe tbody tr th {\n        vertical-align: top;\n    }\n\n    .dataframe thead th {\n        text-align: right;\n    }\n</style>\n<table border=\"1\" class=\"dataframe\">\n  <thead>\n    <tr style=\"text-align: right;\">\n      <th></th>\n      <th>Method</th>\n      <th>Win Probability</th>\n      <th>Number of Seed Replicates</th>\n    </tr>\n  </thead>\n  <tbody>\n    <tr>\n      <th>0</th>\n      <td>MCHAD</td>\n      <td>0.6385</td>\n      <td>1</td>\n    </tr>\n    <tr>\n      <th>1</th>\n      <td>CAC</td>\n      <td>0.2515</td>\n      <td>1</td>\n    </tr>\n    <tr>\n      <th>2</th>\n      <td>Center</td>\n      <td>0.1100</td>\n      <td>1</td>\n    </tr>\n    <tr>\n      <th>3</th>\n      <td>II</td>\n      <td>0.0000</td>\n      <td>1</td>\n    </tr>\n    <tr>\n      <th>4</th>\n      <td>MCHAD</td>\n      <td>0.6779</td>\n      <td>2</td>\n    </tr>\n    <tr>\n      <th>...</th>\n      <td>...</td>\n      <td>...</td>\n      <td>...</td>\n    </tr>\n    <tr>\n      <th>387</th>\n      <td>II</td>\n      <td>0.0000</td>\n      <td>97</td>\n    </tr>\n    <tr>\n      <th>388</th>\n      <td>MCHAD</td>\n      <td>1.0000</td>\n      <td>98</td>\n    </tr>\n    <tr>\n      <th>389</th>\n      <td>CAC</td>\n      <td>0.0000</td>\n      <td>98</td>\n    </tr>\n    <tr>\n      <th>390</th>\n      <td>Center</td>\n      <td>0.0000</td>\n      <td>98</td>\n    </tr>\n    <tr>\n      <th>391</th>\n      <td>II</td>\n      <td>0.0000</td>\n      <td>98</td>\n    </tr>\n  </tbody>\n</table>\n<p>392 rows × 3 columns</p>\n</div>"
     },
     "execution_count": 24,
     "metadata": {},
     "output_type": "execute_result"
    }
   ],
   "source": [
    "data\n"
   ],
   "metadata": {
    "collapsed": false,
    "pycharm": {
     "name": "#%%\n"
    }
   }
  },
  {
   "cell_type": "code",
   "execution_count": 30,
   "outputs": [
    {
     "data": {
      "text/plain": "<Figure size 432x288 with 1 Axes>",
      "image/png": "[encoded data removed]"
     },
     "metadata": {},
     "output_type": "display_data"
    }
   ],
   "source": [
    "import seaborn as sb\n",
    "import matplotlib.pyplot as plt\n",
    "sb.set()\n",
    "sb.set_style(\"whitegrid\")\n",
    "sb.set_context(\"paper\")\n",
    "\n",
    "\n",
    "g = sb.lineplot(data=data, x=\"Number of Seed Replicates\", y=\"Win Probability\", hue=\"Method\")\n",
    "sb.despine(top=True, left=True, right=True)\n",
    "ticks = [1] + list(range(0, 51, 5))\n",
    "_ = g.set(xticks=ticks)\n",
    "g.set_xlim([1, 50])\n",
    "plt.title(\"CIFAR 10\")\n",
    "plt.savefig(\"out/trials.png\", dpi=300)"
   ],
   "metadata": {
    "collapsed": false,
    "pycharm": {
     "name": "#%%\n"
    }
   }
  },
  {
   "cell_type": "code",
   "execution_count": 11,
   "outputs": [],
   "source": [],
   "metadata": {
    "collapsed": false,
    "pycharm": {
     "name": "#%%\n"
    }
   }
  }
 ],
 "metadata": {
  "kernelspec": {
   "display_name": "Python 3",
   "language": "python",
   "name": "python3"
  },
  "language_info": {
   "codemirror_mode": {
    "name": "ipython",
    "version": 2
   },
   "file_extension": ".py",
   "mimetype": "text/x-python",
   "name": "python",
   "nbconvert_exporter": "python",
   "pygments_lexer": "ipython2",
   "version": "2.7.6"
  }
 },
 "nbformat": 4,
 "nbformat_minor": 0
}