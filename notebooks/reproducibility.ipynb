{
 "cells": [
  {
   "cell_type": "code",
   "execution_count": 2,
   "metadata": {
    "collapsed": true
   },
   "outputs": [],
   "source": [
    "import matplotlib.pyplot as plt\n",
    "import numpy as np\n",
    "import seaborn\n",
    "import pandas as pd\n",
    "\n",
    "root = \"/home/ki/projects/work/mchad/logs/multiruns/complete/22-20:45:49/cifar10/\"\n",
    "\n",
    "dfs = []\n",
    "\n",
    "values = {}\n",
    "\n",
    "methods =  [ \"mchad\", \"cac\", \"center\"]\n",
    "\n",
    "for method in methods:\n",
    "    values[method] = []\n",
    "\n",
    "    for i in range(21):\n",
    "        path = f\"{root}/{method}/{i}/results.csv\"\n",
    "        df = pd.read_csv(path)\n",
    "\n",
    "        value = df[\"Distance/OOD/AUROC/test\"].mean()\n",
    "        values[method].append(value)"
   ]
  },
  {
   "cell_type": "code",
   "execution_count": 3,
   "outputs": [],
   "source": [
    "values = {k: np.array(v) for k, v in values.items()}"
   ],
   "metadata": {
    "collapsed": false,
    "pycharm": {
     "name": "#%%\n"
    }
   }
  },
  {
   "cell_type": "code",
   "execution_count": 4,
   "outputs": [],
   "source": [
    "from collections import Counter\n",
    "n_samples = 1\n",
    "mc_iter = 10000\n",
    "\n",
    "results = []\n",
    "\n",
    "for n_samples in range(1, 22):\n",
    "    winning = []\n",
    "\n",
    "    for i in range(mc_iter):\n",
    "        tmp = {}\n",
    "\n",
    "        for method in methods:\n",
    "            v = np.random.permutation(values[method])[:n_samples].mean()\n",
    "            # print(v)\n",
    "            tmp[method] = v\n",
    "\n",
    "        # print(res)\n",
    "        winning.append(max(tmp, key=tmp.get))\n",
    "\n",
    "    c = Counter(winning)\n",
    "    for method in methods:\n",
    "        v = c[method]\n",
    "        results.append({\"Method\": method, \"Win Probability\": v / mc_iter, \"Number of Seed Replicates\": n_samples})"
   ],
   "metadata": {
    "collapsed": false,
    "pycharm": {
     "name": "#%%\n"
    }
   }
  },
  {
   "cell_type": "code",
   "execution_count": 5,
   "outputs": [],
   "source": [
    "data = pd.DataFrame(results)"
   ],
   "metadata": {
    "collapsed": false,
    "pycharm": {
     "name": "#%%\n"
    }
   }
  },
  {
   "cell_type": "code",
   "execution_count": 6,
   "outputs": [],
   "source": [
    "name_map = {\"cac\": \"CAC\", \"mchad\": \"MCHAD\", \"center\": \"Center\", \"gcac\": \"G-CAC\", \"gmchad\": \"G-MCHAD\", \"gcenter\": \"G-Center\"}\n",
    "\n",
    "data[\"Method\"] = data[\"Method\"].apply(name_map.get)"
   ],
   "metadata": {
    "collapsed": false,
    "pycharm": {
     "name": "#%%\n"
    }
   }
  },
  {
   "cell_type": "code",
   "execution_count": 7,
   "outputs": [
    {
     "data": {
      "text/plain": "    Method  Win Probability  Number of Seed Replicates\n0    MCHAD           0.6288                          1\n1      CAC           0.2640                          1\n2   Center           0.1072                          1\n3    MCHAD           0.7141                          2\n4      CAC           0.2051                          2\n..     ...              ...                        ...\n58     CAC           0.0000                         20\n59  Center           0.0000                         20\n60   MCHAD           1.0000                         21\n61     CAC           0.0000                         21\n62  Center           0.0000                         21\n\n[63 rows x 3 columns]",
      "text/html": "<div>\n<style scoped>\n    .dataframe tbody tr th:only-of-type {\n        vertical-align: middle;\n    }\n\n    .dataframe tbody tr th {\n        vertical-align: top;\n    }\n\n    .dataframe thead th {\n        text-align: right;\n    }\n</style>\n<table border=\"1\" class=\"dataframe\">\n  <thead>\n    <tr style=\"text-align: right;\">\n      <th></th>\n      <th>Method</th>\n      <th>Win Probability</th>\n      <th>Number of Seed Replicates</th>\n    </tr>\n  </thead>\n  <tbody>\n    <tr>\n      <th>0</th>\n      <td>MCHAD</td>\n      <td>0.6288</td>\n      <td>1</td>\n    </tr>\n    <tr>\n      <th>1</th>\n      <td>CAC</td>\n      <td>0.2640</td>\n      <td>1</td>\n    </tr>\n    <tr>\n      <th>2</th>\n      <td>Center</td>\n      <td>0.1072</td>\n      <td>1</td>\n    </tr>\n    <tr>\n      <th>3</th>\n      <td>MCHAD</td>\n      <td>0.7141</td>\n      <td>2</td>\n    </tr>\n    <tr>\n      <th>4</th>\n      <td>CAC</td>\n      <td>0.2051</td>\n      <td>2</td>\n    </tr>\n    <tr>\n      <th>...</th>\n      <td>...</td>\n      <td>...</td>\n      <td>...</td>\n    </tr>\n    <tr>\n      <th>58</th>\n      <td>CAC</td>\n      <td>0.0000</td>\n      <td>20</td>\n    </tr>\n    <tr>\n      <th>59</th>\n      <td>Center</td>\n      <td>0.0000</td>\n      <td>20</td>\n    </tr>\n    <tr>\n      <th>60</th>\n      <td>MCHAD</td>\n      <td>1.0000</td>\n      <td>21</td>\n    </tr>\n    <tr>\n      <th>61</th>\n      <td>CAC</td>\n      <td>0.0000</td>\n      <td>21</td>\n    </tr>\n    <tr>\n      <th>62</th>\n      <td>Center</td>\n      <td>0.0000</td>\n      <td>21</td>\n    </tr>\n  </tbody>\n</table>\n<p>63 rows × 3 columns</p>\n</div>"
     },
     "execution_count": 7,
     "metadata": {},
     "output_type": "execute_result"
    }
   ],
   "source": [
    "data\n"
   ],
   "metadata": {
    "collapsed": false,
    "pycharm": {
     "name": "#%%\n"
    }
   }
  },
  {
   "cell_type": "code",
   "execution_count": 8,
   "outputs": [
    {
     "data": {
      "text/plain": "<Figure size 432x288 with 1 Axes>",
      "image/png": "[encoded data removed]"
     },
     "metadata": {},
     "output_type": "display_data"
    }
   ],
   "source": [
    "import seaborn as sb\n",
    "import matplotlib.pyplot as plt\n",
    "sb.set()\n",
    "sb.set_style(\"whitegrid\")\n",
    "sb.set_context(\"paper\")\n",
    "\n",
    "\n",
    "g = sb.lineplot(data=data, x=\"Number of Seed Replicates\", y=\"Win Probability\", hue=\"Method\")\n",
    "sb.despine(top=True, left=True, right=True)\n",
    "_ = g.set(xticks=range(1,22))\n",
    "plt.title(\"CIFAR 10\")\n",
    "plt.savefig(\"out/trials.png\", dpi=300)"
   ],
   "metadata": {
    "collapsed": false,
    "pycharm": {
     "name": "#%%\n"
    }
   }
  },
  {
   "cell_type": "code",
   "execution_count": 8,
   "outputs": [],
   "source": [],
   "metadata": {
    "collapsed": false,
    "pycharm": {
     "name": "#%%\n"
    }
   }
  }
 ],
 "metadata": {
  "kernelspec": {
   "display_name": "Python 3",
   "language": "python",
   "name": "python3"
  },
  "language_info": {
   "codemirror_mode": {
    "name": "ipython",
    "version": 2
   },
   "file_extension": ".py",
   "mimetype": "text/x-python",
   "name": "python",
   "nbconvert_exporter": "python",
   "pygments_lexer": "ipython2",
   "version": "2.7.6"
  }
 },
 "nbformat": 4,
 "nbformat_minor": 0
}